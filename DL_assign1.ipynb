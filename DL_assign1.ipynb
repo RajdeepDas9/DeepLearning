{
 "cells": [
  {
   "cell_type": "markdown",
   "metadata": {},
   "source": [
    "## DL_assign1"
   ]
  },
  {
   "cell_type": "code",
   "execution_count": 11,
   "metadata": {},
   "outputs": [],
   "source": [
    "from keras.datasets import mnist\n",
    "import numpy as np\n",
    "(x_train, y_train), (x_test, y_test) = mnist.load_data()"
   ]
  },
  {
   "cell_type": "code",
   "execution_count": 12,
   "metadata": {},
   "outputs": [],
   "source": [
    "x_train = x_train.reshape(len(x_train),np.prod(x_train.shape[1:]))\n",
    "x_test = x_test.reshape(len(x_test),np.prod(x_test.shape[1:]))"
   ]
  },
  {
   "cell_type": "code",
   "execution_count": 13,
   "metadata": {},
   "outputs": [],
   "source": [
    "def convert_true_distribution(y_train):  #making y_train and y_test into 10 x m  Matrix\n",
    "    y = np.empty([len(y_train),10],dtype = int)\n",
    "    for i in range(len(y_train)):\n",
    "        a = y_train[i]\n",
    "        b = np.zeros(10,dtype = int) \n",
    "        b[a] = 1\n",
    "        y[i] = b\n",
    "    return y.T"
   ]
  },
  {
   "cell_type": "code",
   "execution_count": 14,
   "metadata": {},
   "outputs": [],
   "source": [
    "Y_train = convert_true_distribution(y_train)\n",
    "Y_test = convert_true_distribution(y_test)"
   ]
  },
  {
   "cell_type": "code",
   "execution_count": 15,
   "metadata": {},
   "outputs": [
    {
     "data": {
      "image/png": "[encoded data removed]",
      "text/plain": [
       "<Figure size 1440x288 with 20 Axes>"
      ]
     },
     "metadata": {
      "needs_background": "light"
     },
     "output_type": "display_data"
    }
   ],
   "source": [
    "import matplotlib.pyplot as plt\n",
    "\n",
    "n = 20\n",
    "plt.figure(figsize=(20, 4))\n",
    "for i in range(n):\n",
    "    ax = plt.subplot(2, n, i + 1)\n",
    "    plt.imshow(x_train[i].reshape(28, 28))\n",
    "    plt.gray()\n",
    "    ax.get_xaxis().set_visible(False)\n",
    "    ax.get_yaxis().set_visible(False)\n",
    "\n",
    "plt.show()"
   ]
  },
  {
   "cell_type": "code",
   "execution_count": 16,
   "metadata": {},
   "outputs": [
    {
     "data": {
      "text/plain": [
       "<matplotlib.image.AxesImage at 0x295dacb1e48>"
      ]
     },
     "execution_count": 16,
     "metadata": {},
     "output_type": "execute_result"
    },
    {
     "data": {
      "image/png": "[encoded data removed]",
      "text/plain": [
       "<Figure size 432x288 with 1 Axes>"
      ]
     },
     "metadata": {
      "needs_background": "light"
     },
     "output_type": "display_data"
    }
   ],
   "source": [
    "X_train = x_train.astype('float32') / 255.\n",
    "X_test = x_test.astype('float32') / 255.\n",
    "plt.imshow(X_train[19].reshape(28,28))"
   ]
  },
  {
   "cell_type": "code",
   "execution_count": 17,
   "metadata": {},
   "outputs": [],
   "source": [
    "X_train = X_train.T\n",
    "X_test = X_test.T"
   ]
  },
  {
   "cell_type": "code",
   "execution_count": 18,
   "metadata": {},
   "outputs": [
    {
     "name": "stdout",
     "output_type": "stream",
     "text": [
      "(784, 60000)\n",
      "(10, 60000)\n",
      "(784, 10000)\n",
      "(10, 10000)\n"
     ]
    }
   ],
   "source": [
    "print(X_train.shape)\n",
    "print(Y_train.shape)\n",
    "print(X_test.shape)\n",
    "print(Y_test.shape)"
   ]
  },
  {
   "cell_type": "code",
   "execution_count": 19,
   "metadata": {},
   "outputs": [],
   "source": [
    "def initialize_param(d):\n",
    "    np.random.seed(3)\n",
    "    w = np.random.randn(10,d)/np.sqrt(d)\n",
    "    b = np.zeros(10)\n",
    "    params = {\"w\": w,\"b\": b}\n",
    "    return params"
   ]
  },
  {
   "cell_type": "code",
   "execution_count": 20,
   "metadata": {},
   "outputs": [],
   "source": [
    "def forward(X,params):\n",
    "    W = params[\"w\"]\n",
    "    b = params[\"b\"]\n",
    "    Z = np.dot(W,X)+np.vstack(b)\n",
    "    A = softmax(Z)\n",
    "    return A"
   ]
  },
  {
   "cell_type": "code",
   "execution_count": 21,
   "metadata": {},
   "outputs": [],
   "source": [
    "def softmax(Z):\n",
    "    A = np.empty(Z.shape)\n",
    "    for i in range(Z.shape[1]):\n",
    "        expZ = np.exp(Z[:,i]-np.max(Z[:,i]))\n",
    "        A[:,i] = expZ / expZ.sum(axis=0,keepdims=True)\n",
    "    return A"
   ]
  },
  {
   "cell_type": "code",
   "execution_count": 22,
   "metadata": {},
   "outputs": [],
   "source": [
    "def compute_cost(A,Y):\n",
    "    m = Y.shape[1]\n",
    "    cost_arr = np.empty((m))\n",
    "    for i in range(m):\n",
    "        cost_arr[i] = np.sum(Y[:,i] * np.log(A[:,i]))\n",
    "    cost = (-1/m) * np.sum(cost_arr)\n",
    "    return cost"
   ]
  },
  {
   "cell_type": "code",
   "execution_count": 23,
   "metadata": {},
   "outputs": [],
   "source": [
    "def backprop(X,Y,A):\n",
    "    m = X.shape[1]\n",
    "    dw = (1/m) * np.dot((A-Y),X.T)\n",
    "    db = (1/m) * np.sum((A-Y),axis=1)\n",
    "    return dw,db"
   ]
  },
  {
   "cell_type": "code",
   "execution_count": 24,
   "metadata": {},
   "outputs": [],
   "source": [
    "def optimize(params, X, Y, num_iterations, l_rate):\n",
    "    w = params[\"w\"]\n",
    "    b = params[\"b\"]\n",
    "\n",
    "    costs = []\n",
    "    for i in range(num_iterations):\n",
    "        A = forward(X,params)\n",
    "        cost = compute_cost(A,Y)\n",
    "        dw,db = backprop(X,Y,A)\n",
    "\n",
    "        params[\"w\"] = params[\"w\"] - l_rate * dw \n",
    "        params[\"b\"] = params[\"b\"] - l_rate * db\n",
    "        \n",
    "        if((i+1)%100==0):\n",
    "            print(\"Cost on {0} iteration: {1} {2} {3}\".format((i+1),cost,np.linalg.norm(dw),np.linalg.norm(db)))\n",
    "        \n",
    "        costs.append(cost)\n",
    "    return params,costs"
   ]
  },
  {
   "cell_type": "code",
   "execution_count": 25,
   "metadata": {},
   "outputs": [],
   "source": [
    "def predict(params,X,Y,dataset):    \n",
    "    count=0\n",
    "    m = X.shape[1]\n",
    "    w = params[\"w\"]\n",
    "    print(w.shape,X.shape)\n",
    "    b = params[\"b\"]\n",
    "    m = X.shape[1]\n",
    "    A = softmax(np.dot(w,X) + np.vstack(b))\n",
    "    A[A>0.5]=1\n",
    "    A[A<0.5]=0\n",
    "    for i in range(m):\n",
    "        if((A[:,i]==Y[:,i]).all()):\n",
    "            count+=1\n",
    "    acc =(count/m)*100\n",
    "    print('{} Accuracy : {:.2f} %'.format(dataset,acc))\n",
    "    return A"
   ]
  },
  {
   "cell_type": "code",
   "execution_count": 26,
   "metadata": {},
   "outputs": [],
   "source": [
    "def model(d, X_train, Y_train, X_test, Y_test, num_iter, l_rate):\n",
    "    params = initialize_param(d)\n",
    "    print(params[\"w\"].shape)\n",
    "    params,costs = optimize(params, X_train, Y_train, num_iter, l_rate)\n",
    "    return params,costs"
   ]
  },
  {
   "cell_type": "code",
   "execution_count": 27,
   "metadata": {},
   "outputs": [
    {
     "name": "stdout",
     "output_type": "stream",
     "text": [
      "(10, 784)\n",
      "Cost on 100 iteration: 0.6822477723864373 0.18704666591804273 0.014031295459832362\n",
      "Cost on 200 iteration: 0.5351422089743556 0.10491885957245052 0.010874277117928214\n",
      "Cost on 300 iteration: 0.47548830247684587 0.07505754400713661 0.009427299906303555\n",
      "Cost on 400 iteration: 0.4415166144139538 0.05936155700231113 0.008516473283518306\n",
      "Cost on 500 iteration: 0.41895359192515136 0.04958843186790338 0.00785810107021437\n",
      "Cost on 600 iteration: 0.40258217868011537 0.042872728353208704 0.007344958384203931\n",
      "Cost on 700 iteration: 0.39000082287121185 0.03794935828359923 0.006926008157482662\n",
      "Cost on 800 iteration: 0.3799347120916395 0.034170696134555936 0.006573121967054332\n",
      "Cost on 900 iteration: 0.3716377132963893 0.031169773508736558 0.006269143400039314\n",
      "Cost on 1000 iteration: 0.36464079543256755 0.028722608913877425 0.0060028135713359665\n",
      "Cost on 1100 iteration: 0.35863256871177357 0.026684487933226697 0.005766330441052017\n",
      "Cost on 1200 iteration: 0.3533971831978445 0.024957601513697605 0.005554058077313514\n",
      "Cost on 1300 iteration: 0.34877968746805704 0.023473378738692603 0.005361790790602709\n",
      "Cost on 1400 iteration: 0.34466558014183246 0.022182266045171505 0.005186307443804584\n",
      "Cost on 1500 iteration: 0.34096816498299676 0.021047525807752463 0.005025087881564811\n",
      "Cost on 1600 iteration: 0.337620421351734 0.020041320459059306 0.004876125045415277\n",
      "Cost on 1700 iteration: 0.3345696019581557 0.019142154408022354 0.004737796219842677\n",
      "Cost on 1800 iteration: 0.3317735393829522 0.01833315332682619 0.004608772263322186\n",
      "Cost on 1900 iteration: 0.32919805762397275 0.017600876819858752 0.004487952057734548\n",
      "Cost on 2000 iteration: 0.326815118244278 0.016934480582676385 0.004374414180147023\n"
     ]
    }
   ],
   "source": [
    "params,costs = model(784, X_train, Y_train, X_test, Y_test, 2000, 0.075)"
   ]
  },
  {
   "cell_type": "code",
   "execution_count": 28,
   "metadata": {},
   "outputs": [
    {
     "name": "stdout",
     "output_type": "stream",
     "text": [
      "(10, 784) (784, 60000)\n",
      "Train Accuracy : 88.10 %\n",
      "(10, 784) (784, 10000)\n",
      "Test Accuracy : 88.65 %\n"
     ]
    }
   ],
   "source": [
    "Y_hat_train = predict(params,X_train,Y_train,'Train')\n",
    "Y_hat_test = predict(params,X_test,Y_test,'Test')"
   ]
  },
  {
   "cell_type": "code",
   "execution_count": 29,
   "metadata": {},
   "outputs": [
    {
     "name": "stdout",
     "output_type": "stream",
     "text": [
      "(10, 784)\n",
      "(10,)\n"
     ]
    }
   ],
   "source": [
    "print(params['w'].shape)\n",
    "print(params['b'].shape)"
   ]
  },
  {
   "cell_type": "code",
   "execution_count": 30,
   "metadata": {},
   "outputs": [
    {
     "data": {
      "text/plain": [
       "[<matplotlib.lines.Line2D at 0x2958000db08>]"
      ]
     },
     "execution_count": 30,
     "metadata": {},
     "output_type": "execute_result"
    },
    {
     "data": {
      "image/png": "[encoded data removed]",
      "text/plain": [
       "<Figure size 432x288 with 1 Axes>"
      ]
     },
     "metadata": {
      "needs_background": "light"
     },
     "output_type": "display_data"
    }
   ],
   "source": [
    "plt.plot(range(len(costs)),costs)"
   ]
  },
  {
   "cell_type": "code",
   "execution_count": 31,
   "metadata": {},
   "outputs": [
    {
     "data": {
      "image/png": "[encoded data removed]",
      "text/plain": [
       "<Figure size 1440x288 with 10 Axes>"
      ]
     },
     "metadata": {
      "needs_background": "light"
     },
     "output_type": "display_data"
    }
   ],
   "source": [
    "n = 10\n",
    "plt.figure(figsize=(20, 4))\n",
    "for i in range(n):\n",
    "    ax = plt.subplot(2, n, i + 1)\n",
    "    plt.imshow(params['w'][i].reshape(28, 28))\n",
    "    plt.gray()\n",
    "    ax.get_xaxis().set_visible(False)\n",
    "    ax.get_yaxis().set_visible(False)\n",
    "\n",
    "plt.show()"
   ]
  },
  {
   "cell_type": "code",
   "execution_count": null,
   "metadata": {},
   "outputs": [],
   "source": []
  }
 ],
 "metadata": {
  "kernelspec": {
   "display_name": "Python 3",
   "language": "python",
   "name": "python3"
  },
  "language_info": {
   "codemirror_mode": {
    "name": "ipython",
    "version": 3
   },
   "file_extension": ".py",
   "mimetype": "text/x-python",
   "name": "python",
   "nbconvert_exporter": "python",
   "pygments_lexer": "ipython3",
   "version": "3.7.6"
  }
 },
 "nbformat": 4,
 "nbformat_minor": 4
}
